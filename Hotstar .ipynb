{
 "cells": [
  {
   "cell_type": "code",
   "execution_count": 95,
   "metadata": {
    "collapsed": true
   },
   "outputs": [],
   "source": [
    "import pandas as pd\n",
    "import numpy as np\n",
    "from sklearn.model_selection import train_test_split\n",
    "import json\n",
    "import warnings\n",
    "warnings.filterwarnings('ignore')\n",
    "import matplotlib.pylab as plt\n",
    "%matplotlib inline\n",
    "import sklearn.ensemble as ske\n"
   ]
  },
  {
   "cell_type": "code",
   "execution_count": 96,
   "metadata": {
    "collapsed": false
   },
   "outputs": [],
   "source": [
    "loc_train=\"/home/siddharth/Documents/HackerEarth/2/train_data.json\"\n",
    "loc_test=\"/home/siddharth/Documents/HackerEarth/2/test_data.json\"\n",
    "\n",
    "\n",
    "with open(loc_train, 'r') as jsonfile1:\n",
    "    data_dict_1 = json.load(jsonfile1)\n",
    "    \n",
    "\n",
    "with open(loc_test, 'r') as jsonfile2:\n",
    "    data_dict_2 = json.load(jsonfile2)\n",
    "\n",
    "train = pd.DataFrame.from_dict(data_dict_1, orient='index')\n",
    "train.reset_index(level=0, inplace=True)\n",
    "train.rename(columns = {'index':'ID'},inplace=True)\n",
    "\n",
    "test = pd.DataFrame.from_dict(data_dict_2, orient='index')\n",
    "test.reset_index(level=0, inplace=True)\n",
    "test.rename(columns = {'index':'ID'},inplace=True)\n"
   ]
  },
  {
   "cell_type": "code",
   "execution_count": 97,
   "metadata": {
    "collapsed": false
   },
   "outputs": [
    {
     "data": {
      "text/plain": [
       "(200000, 6)"
      ]
     },
     "execution_count": 97,
     "metadata": {},
     "output_type": "execute_result"
    }
   ],
   "source": [
    "train['segment']=train['segment'].map({'neg':0,'pos':1})\n",
    "target=train['segment']\n",
    "train.drop('segment',axis=1, inplace=True)\n",
    "#Important Cities and Genres, according to code below\n",
    "city_im=[\"navi mumbai\",\"delhi\",\"mumbai\",\"bangalore\",\"gurgaon\",\"chennai\",\"hyderabad\",\"new delhi\"]\n",
    "genre_im=[\"Cricket\",\"Drama\",\"Romance\",\"Reality\",\"TalkShow\",\"Comedy\",\"Family\",\"Action\"]\n",
    "train.shape"
   ]
  },
  {
   "cell_type": "code",
   "execution_count": 98,
   "metadata": {
    "collapsed": false
   },
   "outputs": [
    {
     "data": {
      "text/html": [
       "<div>\n",
       "<table border=\"1\" class=\"dataframe\">\n",
       "  <thead>\n",
       "    <tr style=\"text-align: right;\">\n",
       "      <th></th>\n",
       "      <th>ID</th>\n",
       "      <th>cities</th>\n",
       "      <th>dow</th>\n",
       "      <th>genres</th>\n",
       "      <th>titles</th>\n",
       "      <th>tod</th>\n",
       "    </tr>\n",
       "  </thead>\n",
       "  <tbody>\n",
       "    <tr>\n",
       "      <th>0</th>\n",
       "      <td>train-1</td>\n",
       "      <td>gurgaon:55494,delhi:31892</td>\n",
       "      <td>1:3412,3:15878,2:1737,5:10975,4:20974,7:17820,...</td>\n",
       "      <td>Cricket:82379,Kabaddi:255,Reality:4751</td>\n",
       "      <td>Top Raids: Haryana vs Services SCB:103,Day 4: ...</td>\n",
       "      <td>10:26,13:331,12:323,20:21864,21:16233,17:7953,...</td>\n",
       "    </tr>\n",
       "    <tr>\n",
       "      <th>1</th>\n",
       "      <td>train-10</td>\n",
       "      <td>delhi:5862,nagar:8916,mumbai:1593</td>\n",
       "      <td>1:5745,3:3025,2:3346,5:123,4:3007,7:1108,6:10</td>\n",
       "      <td>Cricket:15640,Wildlife:730</td>\n",
       "      <td>Dhoni Quits Captaincy:148,Day 4: India Move in...</td>\n",
       "      <td>11:1661,10:384,20:401,21:798,22:221,16:525,19:...</td>\n",
       "    </tr>\n",
       "    <tr>\n",
       "      <th>2</th>\n",
       "      <td>train-100</td>\n",
       "      <td>navi mumbai:4142</td>\n",
       "      <td>3:4142</td>\n",
       "      <td>LiveTV:13,Football:4129</td>\n",
       "      <td>Star Sports 4:13,Manchester United vs Everton:...</td>\n",
       "      <td>1:1207,0:2406,2:529</td>\n",
       "    </tr>\n",
       "    <tr>\n",
       "      <th>3</th>\n",
       "      <td>train-1000</td>\n",
       "      <td>new delhi:4131,chennai:2878,navi mumbai:1339</td>\n",
       "      <td>1:658,3:5867,5:413,4:1339,7:71</td>\n",
       "      <td>TalkShow:658,Cricket:7690</td>\n",
       "      <td>SRH vs RCB:701,KKR vs KXIP:1042,MI vs SRH:2288...</td>\n",
       "      <td>11:71,20:2417,21:1042,23:2288,19:1872,8:658</td>\n",
       "    </tr>\n",
       "    <tr>\n",
       "      <th>4</th>\n",
       "      <td>train-10000</td>\n",
       "      <td>gurgaon:6077,chennai:4055</td>\n",
       "      <td>1:1641,2:480,4:1445,7:1663,6:4900</td>\n",
       "      <td>Drama:5503,Cricket:3283,Reality:1345</td>\n",
       "      <td>MI vs KKR:304,Yeh Rishta Kya Kehlata Hai:5449,...</td>\n",
       "      <td>20:158,22:4139,17:67,23:1510,19:288,18:56,0:23...</td>\n",
       "    </tr>\n",
       "  </tbody>\n",
       "</table>\n",
       "</div>"
      ],
      "text/plain": [
       "            ID                                        cities  \\\n",
       "0      train-1                     gurgaon:55494,delhi:31892   \n",
       "1     train-10             delhi:5862,nagar:8916,mumbai:1593   \n",
       "2    train-100                              navi mumbai:4142   \n",
       "3   train-1000  new delhi:4131,chennai:2878,navi mumbai:1339   \n",
       "4  train-10000                     gurgaon:6077,chennai:4055   \n",
       "\n",
       "                                                 dow  \\\n",
       "0  1:3412,3:15878,2:1737,5:10975,4:20974,7:17820,...   \n",
       "1      1:5745,3:3025,2:3346,5:123,4:3007,7:1108,6:10   \n",
       "2                                             3:4142   \n",
       "3                     1:658,3:5867,5:413,4:1339,7:71   \n",
       "4                  1:1641,2:480,4:1445,7:1663,6:4900   \n",
       "\n",
       "                                   genres  \\\n",
       "0  Cricket:82379,Kabaddi:255,Reality:4751   \n",
       "1              Cricket:15640,Wildlife:730   \n",
       "2                 LiveTV:13,Football:4129   \n",
       "3               TalkShow:658,Cricket:7690   \n",
       "4    Drama:5503,Cricket:3283,Reality:1345   \n",
       "\n",
       "                                              titles  \\\n",
       "0  Top Raids: Haryana vs Services SCB:103,Day 4: ...   \n",
       "1  Dhoni Quits Captaincy:148,Day 4: India Move in...   \n",
       "2  Star Sports 4:13,Manchester United vs Everton:...   \n",
       "3  SRH vs RCB:701,KKR vs KXIP:1042,MI vs SRH:2288...   \n",
       "4  MI vs KKR:304,Yeh Rishta Kya Kehlata Hai:5449,...   \n",
       "\n",
       "                                                 tod  \n",
       "0  10:26,13:331,12:323,20:21864,21:16233,17:7953,...  \n",
       "1  11:1661,10:384,20:401,21:798,22:221,16:525,19:...  \n",
       "2                                1:1207,0:2406,2:529  \n",
       "3        11:71,20:2417,21:1042,23:2288,19:1872,8:658  \n",
       "4  20:158,22:4139,17:67,23:1510,19:288,18:56,0:23...  "
      ]
     },
     "execution_count": 98,
     "metadata": {},
     "output_type": "execute_result"
    }
   ],
   "source": [
    "combined=train.append(test)\n",
    "combined.reset_index(inplace=True)\n",
    "combined.drop('index',1,inplace=True)\n",
    "combined.head()"
   ]
  },
  {
   "cell_type": "code",
   "execution_count": 99,
   "metadata": {
    "collapsed": false
   },
   "outputs": [],
   "source": [
    "#cn=pd.DataFrame()\n",
    "#cn['ID']=train['ID']\n",
    "#cn['cities']=train['cities']\n",
    "#cn['cities_name']=train['cities_name']\n",
    "#df=pd.DataFrame()\n",
    "#df=cn['cities_name'].apply(lambda x: pd.Series(x)).stack().reset_index(level=1, drop=True).to_frame('cities_name').join(cn[['ID']], how='left')\n",
    "#df['cities_name'].value_counts()\n",
    "\n",
    "#-----------\n",
    "#cn=pd.DataFrame()\n",
    "#cn['ID']=train['ID']\n",
    "#cn['genres']=train['genres']\n",
    "#cn['genre_name']=train['genre_name']\n",
    "#df=pd.DataFrame()\n",
    "#df=cn['genre_name'].apply(lambda x: pd.Series(x)).stack().reset_index(level=1, drop=True).to_frame('genre_name').join(cn[['ID']], how='left')\n",
    "#df['genre_name'].value_counts()"
   ]
  },
  {
   "cell_type": "code",
   "execution_count": 100,
   "metadata": {
    "collapsed": true
   },
   "outputs": [],
   "source": [
    "def time(x):\n",
    "    l=len(x.split(\",\"))\n",
    "    sum=0\n",
    "    maxm=[]\n",
    "    for i in range(l):\n",
    "        t=(x.split(',')[i].split(':')[1].strip())\n",
    "        sum+=int(t)\n",
    "    return sum/60"
   ]
  },
  {
   "cell_type": "code",
   "execution_count": 101,
   "metadata": {
    "collapsed": false
   },
   "outputs": [],
   "source": [
    "def leng(x):\n",
    "    l=len(x.split(\",\"))\n",
    "    return l"
   ]
  },
  {
   "cell_type": "code",
   "execution_count": 102,
   "metadata": {
    "collapsed": true
   },
   "outputs": [],
   "source": [
    "def maxm(x):\n",
    "    l=len(x.split(\",\"))\n",
    "    m=[]\n",
    "    for i in range(l):\n",
    "        t=(x.split(',')[i].split(':')[1].strip())\n",
    "        m.append(int(t))\n",
    "    return max(m)/60        "
   ]
  },
  {
   "cell_type": "code",
   "execution_count": 103,
   "metadata": {
    "collapsed": true
   },
   "outputs": [],
   "source": [
    "def get_names(x):\n",
    "    l=len(x.split(\",\"))\n",
    "    sum=[]\n",
    "    for i in range(l):\n",
    "        t=x.split(',')[i].split(':')[0].strip()\n",
    "        sum.append(t)\n",
    "    return (sum)"
   ]
  },
  {
   "cell_type": "code",
   "execution_count": 104,
   "metadata": {
    "collapsed": true
   },
   "outputs": [],
   "source": [
    "def city_imp(x,y):\n",
    "    l=len(x)\n",
    "    for i in range(l):\n",
    "        if (x[i] in y):\n",
    "            return 1\n",
    "    return 0"
   ]
  },
  {
   "cell_type": "code",
   "execution_count": 105,
   "metadata": {
    "collapsed": false,
    "scrolled": true
   },
   "outputs": [
    {
     "data": {
      "text/html": [
       "<div>\n",
       "<table border=\"1\" class=\"dataframe\">\n",
       "  <thead>\n",
       "    <tr style=\"text-align: right;\">\n",
       "      <th></th>\n",
       "      <th>ID</th>\n",
       "      <th>cities</th>\n",
       "      <th>dow</th>\n",
       "      <th>genres</th>\n",
       "      <th>titles</th>\n",
       "      <th>tod</th>\n",
       "      <th>time</th>\n",
       "      <th>n_titles</th>\n",
       "      <th>n_dow</th>\n",
       "      <th>cities_name</th>\n",
       "      <th>...</th>\n",
       "      <th>Travel</th>\n",
       "      <th>Volleyball</th>\n",
       "      <th>Wildlife</th>\n",
       "      <th>1</th>\n",
       "      <th>2</th>\n",
       "      <th>3</th>\n",
       "      <th>4</th>\n",
       "      <th>5</th>\n",
       "      <th>6</th>\n",
       "      <th>7</th>\n",
       "    </tr>\n",
       "  </thead>\n",
       "  <tbody>\n",
       "    <tr>\n",
       "      <th>0</th>\n",
       "      <td>train-1</td>\n",
       "      <td>gurgaon:55494,delhi:31892</td>\n",
       "      <td>1:3412,3:15878,2:1737,5:10975,4:20974,7:17820,...</td>\n",
       "      <td>Cricket:82379,Kabaddi:255,Reality:4751</td>\n",
       "      <td>Top Raids: Haryana vs Services SCB:103,Day 4: ...</td>\n",
       "      <td>10:26,13:331,12:323,20:21864,21:16233,17:7953,...</td>\n",
       "      <td>1456.266667</td>\n",
       "      <td>60</td>\n",
       "      <td>7</td>\n",
       "      <td>[gurgaon, delhi]</td>\n",
       "      <td>...</td>\n",
       "      <td>0</td>\n",
       "      <td>0</td>\n",
       "      <td>0</td>\n",
       "      <td>1</td>\n",
       "      <td>1</td>\n",
       "      <td>1</td>\n",
       "      <td>1</td>\n",
       "      <td>1</td>\n",
       "      <td>1</td>\n",
       "      <td>1</td>\n",
       "    </tr>\n",
       "    <tr>\n",
       "      <th>1</th>\n",
       "      <td>train-10</td>\n",
       "      <td>delhi:5862,nagar:8916,mumbai:1593</td>\n",
       "      <td>1:5745,3:3025,2:3346,5:123,4:3007,7:1108,6:10</td>\n",
       "      <td>Cricket:15640,Wildlife:730</td>\n",
       "      <td>Dhoni Quits Captaincy:148,Day 4: India Move in...</td>\n",
       "      <td>11:1661,10:384,20:401,21:798,22:221,16:525,19:...</td>\n",
       "      <td>272.733333</td>\n",
       "      <td>70</td>\n",
       "      <td>7</td>\n",
       "      <td>[delhi, nagar, mumbai]</td>\n",
       "      <td>...</td>\n",
       "      <td>0</td>\n",
       "      <td>0</td>\n",
       "      <td>1</td>\n",
       "      <td>1</td>\n",
       "      <td>1</td>\n",
       "      <td>1</td>\n",
       "      <td>1</td>\n",
       "      <td>1</td>\n",
       "      <td>1</td>\n",
       "      <td>1</td>\n",
       "    </tr>\n",
       "    <tr>\n",
       "      <th>2</th>\n",
       "      <td>train-100</td>\n",
       "      <td>navi mumbai:4142</td>\n",
       "      <td>3:4142</td>\n",
       "      <td>LiveTV:13,Football:4129</td>\n",
       "      <td>Star Sports 4:13,Manchester United vs Everton:...</td>\n",
       "      <td>1:1207,0:2406,2:529</td>\n",
       "      <td>69.033333</td>\n",
       "      <td>2</td>\n",
       "      <td>1</td>\n",
       "      <td>[navi mumbai]</td>\n",
       "      <td>...</td>\n",
       "      <td>0</td>\n",
       "      <td>0</td>\n",
       "      <td>0</td>\n",
       "      <td>0</td>\n",
       "      <td>0</td>\n",
       "      <td>1</td>\n",
       "      <td>0</td>\n",
       "      <td>0</td>\n",
       "      <td>0</td>\n",
       "      <td>0</td>\n",
       "    </tr>\n",
       "    <tr>\n",
       "      <th>3</th>\n",
       "      <td>train-1000</td>\n",
       "      <td>new delhi:4131,chennai:2878,navi mumbai:1339</td>\n",
       "      <td>1:658,3:5867,5:413,4:1339,7:71</td>\n",
       "      <td>TalkShow:658,Cricket:7690</td>\n",
       "      <td>SRH vs RCB:701,KKR vs KXIP:1042,MI vs SRH:2288...</td>\n",
       "      <td>11:71,20:2417,21:1042,23:2288,19:1872,8:658</td>\n",
       "      <td>139.133333</td>\n",
       "      <td>8</td>\n",
       "      <td>5</td>\n",
       "      <td>[new delhi, chennai, navi mumbai]</td>\n",
       "      <td>...</td>\n",
       "      <td>0</td>\n",
       "      <td>0</td>\n",
       "      <td>0</td>\n",
       "      <td>1</td>\n",
       "      <td>0</td>\n",
       "      <td>1</td>\n",
       "      <td>1</td>\n",
       "      <td>1</td>\n",
       "      <td>0</td>\n",
       "      <td>1</td>\n",
       "    </tr>\n",
       "    <tr>\n",
       "      <th>4</th>\n",
       "      <td>train-10000</td>\n",
       "      <td>gurgaon:6077,chennai:4055</td>\n",
       "      <td>1:1641,2:480,4:1445,7:1663,6:4900</td>\n",
       "      <td>Drama:5503,Cricket:3283,Reality:1345</td>\n",
       "      <td>MI vs KKR:304,Yeh Rishta Kya Kehlata Hai:5449,...</td>\n",
       "      <td>20:158,22:4139,17:67,23:1510,19:288,18:56,0:23...</td>\n",
       "      <td>168.816667</td>\n",
       "      <td>11</td>\n",
       "      <td>5</td>\n",
       "      <td>[gurgaon, chennai]</td>\n",
       "      <td>...</td>\n",
       "      <td>0</td>\n",
       "      <td>0</td>\n",
       "      <td>0</td>\n",
       "      <td>1</td>\n",
       "      <td>1</td>\n",
       "      <td>0</td>\n",
       "      <td>1</td>\n",
       "      <td>0</td>\n",
       "      <td>1</td>\n",
       "      <td>1</td>\n",
       "    </tr>\n",
       "  </tbody>\n",
       "</table>\n",
       "<p>5 rows × 55 columns</p>\n",
       "</div>"
      ],
      "text/plain": [
       "            ID                                        cities  \\\n",
       "0      train-1                     gurgaon:55494,delhi:31892   \n",
       "1     train-10             delhi:5862,nagar:8916,mumbai:1593   \n",
       "2    train-100                              navi mumbai:4142   \n",
       "3   train-1000  new delhi:4131,chennai:2878,navi mumbai:1339   \n",
       "4  train-10000                     gurgaon:6077,chennai:4055   \n",
       "\n",
       "                                                 dow  \\\n",
       "0  1:3412,3:15878,2:1737,5:10975,4:20974,7:17820,...   \n",
       "1      1:5745,3:3025,2:3346,5:123,4:3007,7:1108,6:10   \n",
       "2                                             3:4142   \n",
       "3                     1:658,3:5867,5:413,4:1339,7:71   \n",
       "4                  1:1641,2:480,4:1445,7:1663,6:4900   \n",
       "\n",
       "                                   genres  \\\n",
       "0  Cricket:82379,Kabaddi:255,Reality:4751   \n",
       "1              Cricket:15640,Wildlife:730   \n",
       "2                 LiveTV:13,Football:4129   \n",
       "3               TalkShow:658,Cricket:7690   \n",
       "4    Drama:5503,Cricket:3283,Reality:1345   \n",
       "\n",
       "                                              titles  \\\n",
       "0  Top Raids: Haryana vs Services SCB:103,Day 4: ...   \n",
       "1  Dhoni Quits Captaincy:148,Day 4: India Move in...   \n",
       "2  Star Sports 4:13,Manchester United vs Everton:...   \n",
       "3  SRH vs RCB:701,KKR vs KXIP:1042,MI vs SRH:2288...   \n",
       "4  MI vs KKR:304,Yeh Rishta Kya Kehlata Hai:5449,...   \n",
       "\n",
       "                                                 tod         time  n_titles  \\\n",
       "0  10:26,13:331,12:323,20:21864,21:16233,17:7953,...  1456.266667        60   \n",
       "1  11:1661,10:384,20:401,21:798,22:221,16:525,19:...   272.733333        70   \n",
       "2                                1:1207,0:2406,2:529    69.033333         2   \n",
       "3        11:71,20:2417,21:1042,23:2288,19:1872,8:658   139.133333         8   \n",
       "4  20:158,22:4139,17:67,23:1510,19:288,18:56,0:23...   168.816667        11   \n",
       "\n",
       "   n_dow                        cities_name ... Travel  Volleyball Wildlife  \\\n",
       "0      7                   [gurgaon, delhi] ...      0           0        0   \n",
       "1      7             [delhi, nagar, mumbai] ...      0           0        1   \n",
       "2      1                      [navi mumbai] ...      0           0        0   \n",
       "3      5  [new delhi, chennai, navi mumbai] ...      0           0        0   \n",
       "4      5                 [gurgaon, chennai] ...      0           0        0   \n",
       "\n",
       "   1  2  3  4  5  6  7  \n",
       "0  1  1  1  1  1  1  1  \n",
       "1  1  1  1  1  1  1  1  \n",
       "2  0  0  1  0  0  0  0  \n",
       "3  1  0  1  1  1  0  1  \n",
       "4  1  1  0  1  0  1  1  \n",
       "\n",
       "[5 rows x 55 columns]"
      ]
     },
     "execution_count": 105,
     "metadata": {},
     "output_type": "execute_result"
    }
   ],
   "source": [
    "combined['time']=combined['dow'].map(lambda x: time(x))\n",
    "#combined['n_cities']=combined['cities'].map(lambda x: leng(x))\n",
    "combined['n_titles']=combined['titles'].map(lambda x: leng(x))\n",
    "combined['n_dow']=combined['dow'].map(lambda x: leng(x))\n",
    "#combined['n_tod']=combined['tod'].map(lambda x: leng(x))\n",
    "#combined['Max_time_dow']=combined['dow'].map(lambda x: maxm(x))\n",
    "combined['cities_name']=combined['cities'].map(lambda x: get_names(x))\n",
    "combined['genre_name']=combined['genres'].map(lambda x: get_names(x))\n",
    "combined['city_flag']=combined['cities_name'].map(lambda x: city_imp(x,city_im))\n",
    "combined['dow_count']=combined['dow'].map(lambda x: get_names(x))\n",
    "\n",
    "#combined['tod_count']=combined['tod'].map(lambda x: get_names(x))\n",
    "\n",
    "#combined['genre_flag']=combined['genre_name'].map(lambda x: city_imp(x,genre_im))\n",
    "\n",
    "                \n",
    "genre_concat=combined['genre_name'].str.join(sep='*').str.get_dummies(sep='*')\n",
    "dow_count_concat=combined['dow_count'].str.join(sep='*').str.get_dummies(sep='*')\n",
    "#tod_count_concat=combined['tod_count'].str.join(sep='*').str.get_dummies(sep='*')\n",
    "\n",
    "\n",
    "\n",
    "combined= combined.join(genre_concat)\n",
    "combined=combined.join(dow_count_concat)\n",
    "\n",
    "\n",
    "#combined=combined.join(tod_count_concat)\n",
    "\n",
    "combined.head()"
   ]
  },
  {
   "cell_type": "code",
   "execution_count": 106,
   "metadata": {
    "collapsed": false
   },
   "outputs": [
    {
     "data": {
      "text/plain": [
       "Index(['ID', 'cities', 'dow', 'genres', 'titles', 'tod', 'time', 'n_titles',\n",
       "       'n_dow', 'cities_name', 'genre_name', 'city_flag', 'dow_count',\n",
       "       'Action', 'Athletics', 'Awards', 'Badminton', 'Boxing', 'Comedy',\n",
       "       'Cricket', 'Crime', 'Documentary', 'Drama', 'Family', 'Football',\n",
       "       'Formula1', 'FormulaE', 'Hockey', 'Horror', 'IndiaVsSa', 'Kabaddi',\n",
       "       'Kids', 'LiveTV', 'Mythology', 'NA', 'Reality', 'Romance', 'Science',\n",
       "       'Sport', 'Swimming', 'Table Tennis', 'TalkShow', 'Teen', 'Tennis',\n",
       "       'Thriller', 'Travel', 'Volleyball', 'Wildlife', '1', '2', '3', '4', '5',\n",
       "       '6', '7'],\n",
       "      dtype='object')"
      ]
     },
     "execution_count": 106,
     "metadata": {},
     "output_type": "execute_result"
    }
   ],
   "source": [
    "combined.columns"
   ]
  },
  {
   "cell_type": "code",
   "execution_count": 107,
   "metadata": {
    "collapsed": false
   },
   "outputs": [
    {
     "data": {
      "text/html": [
       "<div>\n",
       "<table border=\"1\" class=\"dataframe\">\n",
       "  <thead>\n",
       "    <tr style=\"text-align: right;\">\n",
       "      <th></th>\n",
       "      <th>time</th>\n",
       "      <th>n_titles</th>\n",
       "      <th>n_dow</th>\n",
       "      <th>city_flag</th>\n",
       "      <th>Action</th>\n",
       "      <th>Athletics</th>\n",
       "      <th>Awards</th>\n",
       "      <th>Badminton</th>\n",
       "      <th>Boxing</th>\n",
       "      <th>Comedy</th>\n",
       "      <th>...</th>\n",
       "      <th>Travel</th>\n",
       "      <th>Volleyball</th>\n",
       "      <th>Wildlife</th>\n",
       "      <th>1</th>\n",
       "      <th>2</th>\n",
       "      <th>3</th>\n",
       "      <th>4</th>\n",
       "      <th>5</th>\n",
       "      <th>6</th>\n",
       "      <th>7</th>\n",
       "    </tr>\n",
       "  </thead>\n",
       "  <tbody>\n",
       "    <tr>\n",
       "      <th>0</th>\n",
       "      <td>1456.266667</td>\n",
       "      <td>60</td>\n",
       "      <td>7</td>\n",
       "      <td>1</td>\n",
       "      <td>0</td>\n",
       "      <td>0</td>\n",
       "      <td>0</td>\n",
       "      <td>0</td>\n",
       "      <td>0</td>\n",
       "      <td>0</td>\n",
       "      <td>...</td>\n",
       "      <td>0</td>\n",
       "      <td>0</td>\n",
       "      <td>0</td>\n",
       "      <td>1</td>\n",
       "      <td>1</td>\n",
       "      <td>1</td>\n",
       "      <td>1</td>\n",
       "      <td>1</td>\n",
       "      <td>1</td>\n",
       "      <td>1</td>\n",
       "    </tr>\n",
       "    <tr>\n",
       "      <th>1</th>\n",
       "      <td>272.733333</td>\n",
       "      <td>70</td>\n",
       "      <td>7</td>\n",
       "      <td>1</td>\n",
       "      <td>0</td>\n",
       "      <td>0</td>\n",
       "      <td>0</td>\n",
       "      <td>0</td>\n",
       "      <td>0</td>\n",
       "      <td>0</td>\n",
       "      <td>...</td>\n",
       "      <td>0</td>\n",
       "      <td>0</td>\n",
       "      <td>1</td>\n",
       "      <td>1</td>\n",
       "      <td>1</td>\n",
       "      <td>1</td>\n",
       "      <td>1</td>\n",
       "      <td>1</td>\n",
       "      <td>1</td>\n",
       "      <td>1</td>\n",
       "    </tr>\n",
       "    <tr>\n",
       "      <th>2</th>\n",
       "      <td>69.033333</td>\n",
       "      <td>2</td>\n",
       "      <td>1</td>\n",
       "      <td>1</td>\n",
       "      <td>0</td>\n",
       "      <td>0</td>\n",
       "      <td>0</td>\n",
       "      <td>0</td>\n",
       "      <td>0</td>\n",
       "      <td>0</td>\n",
       "      <td>...</td>\n",
       "      <td>0</td>\n",
       "      <td>0</td>\n",
       "      <td>0</td>\n",
       "      <td>0</td>\n",
       "      <td>0</td>\n",
       "      <td>1</td>\n",
       "      <td>0</td>\n",
       "      <td>0</td>\n",
       "      <td>0</td>\n",
       "      <td>0</td>\n",
       "    </tr>\n",
       "    <tr>\n",
       "      <th>3</th>\n",
       "      <td>139.133333</td>\n",
       "      <td>8</td>\n",
       "      <td>5</td>\n",
       "      <td>1</td>\n",
       "      <td>0</td>\n",
       "      <td>0</td>\n",
       "      <td>0</td>\n",
       "      <td>0</td>\n",
       "      <td>0</td>\n",
       "      <td>0</td>\n",
       "      <td>...</td>\n",
       "      <td>0</td>\n",
       "      <td>0</td>\n",
       "      <td>0</td>\n",
       "      <td>1</td>\n",
       "      <td>0</td>\n",
       "      <td>1</td>\n",
       "      <td>1</td>\n",
       "      <td>1</td>\n",
       "      <td>0</td>\n",
       "      <td>1</td>\n",
       "    </tr>\n",
       "    <tr>\n",
       "      <th>4</th>\n",
       "      <td>168.816667</td>\n",
       "      <td>11</td>\n",
       "      <td>5</td>\n",
       "      <td>1</td>\n",
       "      <td>0</td>\n",
       "      <td>0</td>\n",
       "      <td>0</td>\n",
       "      <td>0</td>\n",
       "      <td>0</td>\n",
       "      <td>0</td>\n",
       "      <td>...</td>\n",
       "      <td>0</td>\n",
       "      <td>0</td>\n",
       "      <td>0</td>\n",
       "      <td>1</td>\n",
       "      <td>1</td>\n",
       "      <td>0</td>\n",
       "      <td>1</td>\n",
       "      <td>0</td>\n",
       "      <td>1</td>\n",
       "      <td>1</td>\n",
       "    </tr>\n",
       "  </tbody>\n",
       "</table>\n",
       "<p>5 rows × 46 columns</p>\n",
       "</div>"
      ],
      "text/plain": [
       "          time  n_titles  n_dow  city_flag  Action  Athletics  Awards  \\\n",
       "0  1456.266667        60      7          1       0          0       0   \n",
       "1   272.733333        70      7          1       0          0       0   \n",
       "2    69.033333         2      1          1       0          0       0   \n",
       "3   139.133333         8      5          1       0          0       0   \n",
       "4   168.816667        11      5          1       0          0       0   \n",
       "\n",
       "   Badminton  Boxing  Comedy ...  Travel  Volleyball  Wildlife  1  2  3  4  5  \\\n",
       "0          0       0       0 ...       0           0         0  1  1  1  1  1   \n",
       "1          0       0       0 ...       0           0         1  1  1  1  1  1   \n",
       "2          0       0       0 ...       0           0         0  0  0  1  0  0   \n",
       "3          0       0       0 ...       0           0         0  1  0  1  1  1   \n",
       "4          0       0       0 ...       0           0         0  1  1  0  1  0   \n",
       "\n",
       "   6  7  \n",
       "0  1  1  \n",
       "1  1  1  \n",
       "2  0  0  \n",
       "3  0  1  \n",
       "4  1  1  \n",
       "\n",
       "[5 rows x 46 columns]"
      ]
     },
     "execution_count": 107,
     "metadata": {},
     "output_type": "execute_result"
    }
   ],
   "source": [
    "combined.drop(['ID','genres','titles','cities','tod','dow'],axis=1, inplace=True)\n",
    "combined.drop(['cities_name','genre_name','dow_count'],axis=1, inplace=True)\n",
    "combined.head()"
   ]
  },
  {
   "cell_type": "code",
   "execution_count": 108,
   "metadata": {
    "collapsed": false
   },
   "outputs": [],
   "source": [
    "train_new=combined[:200000]\n",
    "test_new=combined[200000:]"
   ]
  },
  {
   "cell_type": "code",
   "execution_count": 109,
   "metadata": {
    "collapsed": false
   },
   "outputs": [
    {
     "name": "stdout",
     "output_type": "stream",
     "text": [
      "<class 'pandas.core.frame.DataFrame'>\n",
      "RangeIndex: 200000 entries, 0 to 199999\n",
      "Data columns (total 46 columns):\n",
      "time            200000 non-null float64\n",
      "n_titles        200000 non-null int64\n",
      "n_dow           200000 non-null int64\n",
      "city_flag       200000 non-null int64\n",
      "Action          200000 non-null int64\n",
      "Athletics       200000 non-null int64\n",
      "Awards          200000 non-null int64\n",
      "Badminton       200000 non-null int64\n",
      "Boxing          200000 non-null int64\n",
      "Comedy          200000 non-null int64\n",
      "Cricket         200000 non-null int64\n",
      "Crime           200000 non-null int64\n",
      "Documentary     200000 non-null int64\n",
      "Drama           200000 non-null int64\n",
      "Family          200000 non-null int64\n",
      "Football        200000 non-null int64\n",
      "Formula1        200000 non-null int64\n",
      "FormulaE        200000 non-null int64\n",
      "Hockey          200000 non-null int64\n",
      "Horror          200000 non-null int64\n",
      "IndiaVsSa       200000 non-null int64\n",
      "Kabaddi         200000 non-null int64\n",
      "Kids            200000 non-null int64\n",
      "LiveTV          200000 non-null int64\n",
      "Mythology       200000 non-null int64\n",
      "NA              200000 non-null int64\n",
      "Reality         200000 non-null int64\n",
      "Romance         200000 non-null int64\n",
      "Science         200000 non-null int64\n",
      "Sport           200000 non-null int64\n",
      "Swimming        200000 non-null int64\n",
      "Table Tennis    200000 non-null int64\n",
      "TalkShow        200000 non-null int64\n",
      "Teen            200000 non-null int64\n",
      "Tennis          200000 non-null int64\n",
      "Thriller        200000 non-null int64\n",
      "Travel          200000 non-null int64\n",
      "Volleyball      200000 non-null int64\n",
      "Wildlife        200000 non-null int64\n",
      "1               200000 non-null int64\n",
      "2               200000 non-null int64\n",
      "3               200000 non-null int64\n",
      "4               200000 non-null int64\n",
      "5               200000 non-null int64\n",
      "6               200000 non-null int64\n",
      "7               200000 non-null int64\n",
      "dtypes: float64(1), int64(45)\n",
      "memory usage: 70.2 MB\n"
     ]
    }
   ],
   "source": [
    "train_new.info()"
   ]
  },
  {
   "cell_type": "code",
   "execution_count": 110,
   "metadata": {
    "collapsed": false
   },
   "outputs": [],
   "source": [
    "X,x,Y,y=train_test_split(train_new, target,test_size=0.3)"
   ]
  },
  {
   "cell_type": "code",
   "execution_count": 124,
   "metadata": {
    "collapsed": false
   },
   "outputs": [
    {
     "data": {
      "text/plain": [
       "0.92369999999999997"
      ]
     },
     "execution_count": 124,
     "metadata": {},
     "output_type": "execute_result"
    }
   ],
   "source": [
    "clf_gb = ske.GradientBoostingClassifier(n_estimators=100,learning_rate=0.2,subsample=0.8)\n",
    "clf_gb.fit (X,Y)\n",
    "clf_gb.score (x,y)\n",
    "#100-0.92436666666666667\n",
    "#30-0.92436666666666667\n",
    "#10-0.92438333333333333\n",
    "#50-0.92436666666666667\n",
    "\n",
    "\n",
    "#0.92556666666666665\n",
    "#10 0.9240666666666667\n",
    "#30 0.9240666666666667\n",
    "#300 0.92383333333333328 "
   ]
  },
  {
   "cell_type": "code",
   "execution_count": 125,
   "metadata": {
    "collapsed": false
   },
   "outputs": [
    {
     "data": {
      "text/plain": [
       "<matplotlib.axes._subplots.AxesSubplot at 0x7f6410f396a0>"
      ]
     },
     "execution_count": 125,
     "metadata": {},
     "output_type": "execute_result"
    },
    {
     "data": {
      "image/png": "[encoded data removed]",
      "text/plain": [
       "<matplotlib.figure.Figure at 0x7f6410e11eb8>"
      ]
     },
     "metadata": {},
     "output_type": "display_data"
    }
   ],
   "source": [
    "features = pd.DataFrame()\n",
    "features['feature'] = train_new.columns\n",
    "features['importance'] = clf_gb.feature_importances_\n",
    "features.sort_values(by=['importance'], ascending=True, inplace=True)\n",
    "features.set_index('feature', inplace=True)\n",
    "features.plot(kind='barh',figsize=(20, 20))\n"
   ]
  },
  {
   "cell_type": "code",
   "execution_count": 108,
   "metadata": {
    "collapsed": false
   },
   "outputs": [],
   "source": [
    "pred_prob=clf_gb.predict_proba(test_new)"
   ]
  },
  {
   "cell_type": "code",
   "execution_count": 109,
   "metadata": {
    "collapsed": false
   },
   "outputs": [],
   "source": [
    "output=pd.DataFrame(pred_prob)\n",
    "output.drop(0,1,inplace=True)\n",
    "output['ID']=test.ID\n",
    "output.rename(columns={1:'segment'},inplace=True)"
   ]
  },
  {
   "cell_type": "code",
   "execution_count": 110,
   "metadata": {
    "collapsed": false
   },
   "outputs": [
    {
     "name": "stdout",
     "output_type": "stream",
     "text": [
      "<class 'pandas.core.frame.DataFrame'>\n",
      "RangeIndex: 100000 entries, 0 to 99999\n",
      "Data columns (total 2 columns):\n",
      "segment    100000 non-null float64\n",
      "ID         100000 non-null object\n",
      "dtypes: float64(1), object(1)\n",
      "memory usage: 1.5+ MB\n"
     ]
    }
   ],
   "source": [
    "output.info()\n",
    "output[['ID','segment']].to_csv(\"/home/siddharth/Documents/HackerEarth/2/output_gb7.csv\",index=False)"
   ]
  },
  {
   "cell_type": "code",
   "execution_count": null,
   "metadata": {
    "collapsed": true
   },
   "outputs": [],
   "source": []
  }
 ],
 "metadata": {
  "kernelspec": {
   "display_name": "Python 3",
   "language": "python",
   "name": "python3"
  },
  "language_info": {
   "codemirror_mode": {
    "name": "ipython",
    "version": 3
   },
   "file_extension": ".py",
   "mimetype": "text/x-python",
   "name": "python",
   "nbconvert_exporter": "python",
   "pygments_lexer": "ipython3",
   "version": "3.6.0"
  }
 },
 "nbformat": 4,
 "nbformat_minor": 2
}
